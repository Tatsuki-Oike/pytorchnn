{
 "cells": [
  {
   "cell_type": "markdown",
   "metadata": {},
   "source": [
    "# 1 ライブラリとデータ"
   ]
  },
  {
   "cell_type": "code",
   "execution_count": 1,
   "metadata": {},
   "outputs": [
    {
     "data": {
      "text/plain": [
       "<torch._C.Generator at 0x7fe9a8702c10>"
      ]
     },
     "execution_count": 1,
     "metadata": {},
     "output_type": "execute_result"
    }
   ],
   "source": [
    "from torchvision import datasets\n",
    "import torchvision.transforms as transforms\n",
    "from torch.utils.data import DataLoader\n",
    "\n",
    "import torch\n",
    "import torch.nn as nn\n",
    "import torch.optim as optim\n",
    "\n",
    "import matplotlib.pyplot as plt\n",
    "\n",
    "torch.manual_seed(1)"
   ]
  },
  {
   "cell_type": "code",
   "execution_count": 2,
   "metadata": {},
   "outputs": [],
   "source": [
    "transform = transforms.Compose([transforms.ToTensor(),transforms.Normalize((0),(1)),lambda x: x.view(-1)])\n",
    "\n",
    "root = './data'\n",
    "mnist_train = datasets.MNIST(root=root,download=True,train=True,transform=transform)\n",
    "mnist_test = datasets.MNIST(root=root,download=True,train=False,transform=transform)\n",
    "\n",
    "train_dataloader = DataLoader(mnist_train,batch_size=100,shuffle=True)\n",
    "test_dataloader = DataLoader(mnist_test,batch_size=100,shuffle=False)"
   ]
  },
  {
   "cell_type": "code",
   "execution_count": 3,
   "metadata": {},
   "outputs": [
    {
     "data": {
      "text/plain": [
       "<matplotlib.image.AxesImage at 0x7fe9a8f0dbe0>"
      ]
     },
     "execution_count": 3,
     "metadata": {},
     "output_type": "execute_result"
    },
    {
     "data": {
      "image/png": "[encoded data removed]",
      "text/plain": [
       "<Figure size 432x288 with 1 Axes>"
      ]
     },
     "metadata": {
      "needs_background": "light"
     },
     "output_type": "display_data"
    }
   ],
   "source": [
    "x, t = next(iter(train_dataloader))\n",
    "image = x[0,].view(28,28).detach().numpy()\n",
    "plt.imshow(image,cmap='binary_r')"
   ]
  },
  {
   "cell_type": "markdown",
   "metadata": {},
   "source": [
    "# 2 モデル"
   ]
  },
  {
   "cell_type": "code",
   "execution_count": 4,
   "metadata": {},
   "outputs": [],
   "source": [
    "class Model(nn.Module):\n",
    "    def __init__(self):\n",
    "        super().__init__()\n",
    "        self.l1 = nn.Linear(784,200)\n",
    "        self.a1 = nn.ReLU()\n",
    "        self.l2 = nn.Linear(200,10)\n",
    "    def forward(self,x):\n",
    "        x = self.l1(x)\n",
    "        x = self.a1(x)\n",
    "        x = self.l2(x)\n",
    "        return x"
   ]
  },
  {
   "cell_type": "code",
   "execution_count": 5,
   "metadata": {},
   "outputs": [],
   "source": [
    "class Model(nn.Module):\n",
    "    def __init__(self):\n",
    "        super().__init__()\n",
    "        self.l1 = nn.Linear(784,200)\n",
    "        self.l2 = nn.Linear(200,10)\n",
    "    def forward(self,x):\n",
    "        x = self.l1(x)\n",
    "        x = torch.relu(x)\n",
    "        x = self.l2(x)\n",
    "        return x"
   ]
  },
  {
   "cell_type": "code",
   "execution_count": 6,
   "metadata": {},
   "outputs": [],
   "source": [
    "# model = nn.Sequential(nn.Linear(784,200), nn.ReLU(), nn.Linear(200,10))\n",
    "model = Model()\n",
    "criterion = nn.CrossEntropyLoss()\n",
    "optimizer = optim.SGD(model.parameters(),lr=1e-2)"
   ]
  },
  {
   "cell_type": "markdown",
   "metadata": {},
   "source": [
    "# 3 モデルの学習と評価"
   ]
  },
  {
   "cell_type": "code",
   "execution_count": 7,
   "metadata": {},
   "outputs": [
    {
     "name": "stdout",
     "output_type": "stream",
     "text": [
      "Epoch: 1\n",
      "loss_train: 1.5519, acc_train: 0.6834\n",
      "loss_test: 0.8280, acc_test: 0.8387\n",
      "Epoch: 10\n",
      "loss_train: 0.3021, acc_train: 0.9144\n",
      "loss_test: 0.2858, acc_test: 0.9204\n",
      "Epoch: 20\n",
      "loss_train: 0.2343, acc_train: 0.9344\n",
      "loss_test: 0.2265, acc_test: 0.9359\n",
      "Epoch: 30\n",
      "loss_train: 0.1900, acc_train: 0.9468\n",
      "loss_test: 0.1872, acc_test: 0.9458\n",
      "Epoch: 40\n",
      "loss_train: 0.1593, acc_train: 0.9553\n",
      "loss_test: 0.1595, acc_test: 0.9534\n",
      "Epoch: 50\n",
      "loss_train: 0.1368, acc_train: 0.9619\n",
      "loss_test: 0.1404, acc_test: 0.9585\n"
     ]
    }
   ],
   "source": [
    "loss_train_all = []\n",
    "acc_train_all = []\n",
    "loss_test_all = []\n",
    "acc_test_all = []\n",
    "\n",
    "for epoch in range(1, 50+1):\n",
    "    \n",
    "    loss_train = 0\n",
    "    acc_train = 0\n",
    "    loss_test = 0\n",
    "    acc_test = 0\n",
    "    \n",
    "    for (x,t) in train_dataloader:\n",
    "        y = model(x)\n",
    "        loss = criterion(y,t)\n",
    "        optimizer.zero_grad()\n",
    "        loss.backward()\n",
    "        optimizer.step()\n",
    "        \n",
    "        loss_train += loss.item()\n",
    "        acc_train += sum(y.argmax(axis=1) == t)/len(t)\n",
    "        \n",
    "    loss_train_mean = loss_train / len(train_dataloader)\n",
    "    acc_train_mean = acc_train / len(train_dataloader)\n",
    "    \n",
    "    with torch.no_grad():\n",
    "        for x, t in test_dataloader:\n",
    "            y = model(x)\n",
    "            loss = criterion(y,t)\n",
    "        \n",
    "            loss_test += loss.item()\n",
    "            acc_test += sum(y.argmax(axis=1) == t)/len(t)\n",
    "        \n",
    "    loss_test_mean = loss_test / len(test_dataloader)\n",
    "    acc_test_mean = acc_test / len(test_dataloader)\n",
    "    \n",
    "    loss_train_all.append(loss_train_mean)\n",
    "    acc_train_all.append(acc_train_mean)\n",
    "    loss_test_all.append(loss_test_mean)\n",
    "    acc_test_all.append(acc_test_mean)\n",
    "    \n",
    "    if epoch == 1 or epoch % 10 == 0:\n",
    "        print(f\"Epoch: {epoch}\")\n",
    "        print(f\"loss_train: {loss_train_mean:.4f}, acc_train: {acc_train_mean:.4f}\")\n",
    "        print(f\"loss_test: {loss_test_mean:.4f}, acc_test: {acc_test_mean:.4f}\")    "
   ]
  },
  {
   "cell_type": "code",
   "execution_count": 8,
   "metadata": {},
   "outputs": [
    {
     "data": {
      "text/plain": [
       "<matplotlib.legend.Legend at 0x7fe9a8fbd4c0>"
      ]
     },
     "execution_count": 8,
     "metadata": {},
     "output_type": "execute_result"
    },
    {
     "data": {
      "image/png": "[encoded data removed]",
      "text/plain": [
       "<Figure size 432x288 with 1 Axes>"
      ]
     },
     "metadata": {
      "needs_background": "light"
     },
     "output_type": "display_data"
    }
   ],
   "source": [
    "plt.plot(range(1,len(loss_train_all)+1), loss_train_all, label=\"train\")\n",
    "plt.plot(range(1,len(loss_test_all)+1), loss_test_all, label=\"test\")\n",
    "plt.legend()"
   ]
  },
  {
   "cell_type": "code",
   "execution_count": 9,
   "metadata": {},
   "outputs": [
    {
     "data": {
      "text/plain": [
       "<matplotlib.legend.Legend at 0x7fe9883d9790>"
      ]
     },
     "execution_count": 9,
     "metadata": {},
     "output_type": "execute_result"
    },
    {
     "data": {
      "image/png": "[encoded data removed]",
      "text/plain": [
       "<Figure size 432x288 with 1 Axes>"
      ]
     },
     "metadata": {
      "needs_background": "light"
     },
     "output_type": "display_data"
    }
   ],
   "source": [
    "plt.plot(range(1,len(acc_train_all)+1), acc_train_all, label=\"train\")\n",
    "plt.plot(range(1,len(acc_test_all)+1), acc_test_all, label=\"test\")\n",
    "plt.legend()"
   ]
  }
 ],
 "metadata": {
  "kernelspec": {
   "display_name": "Python 3",
   "language": "python",
   "name": "python3"
  },
  "language_info": {
   "codemirror_mode": {
    "name": "ipython",
    "version": 3
   },
   "file_extension": ".py",
   "mimetype": "text/x-python",
   "name": "python",
   "nbconvert_exporter": "python",
   "pygments_lexer": "ipython3",
   "version": "3.8.5"
  }
 },
 "nbformat": 4,
 "nbformat_minor": 4
}
